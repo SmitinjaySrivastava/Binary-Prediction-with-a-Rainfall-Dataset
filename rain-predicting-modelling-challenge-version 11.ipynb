{
 "cells": [
  {
   "cell_type": "code",
   "execution_count": 1,
   "id": "9286eed9",
   "metadata": {
    "_cell_guid": "b1076dfc-b9ad-4769-8c92-a6c4dae69d19",
    "_uuid": "8f2839f25d086af736a60e9eeb907d3b93b6e0e5",
    "execution": {
     "iopub.execute_input": "2025-03-20T15:57:54.594158Z",
     "iopub.status.busy": "2025-03-20T15:57:54.593656Z",
     "iopub.status.idle": "2025-03-20T15:57:55.655490Z",
     "shell.execute_reply": "2025-03-20T15:57:55.654034Z"
    },
    "papermill": {
     "duration": 1.06956,
     "end_time": "2025-03-20T15:57:55.657509",
     "exception": false,
     "start_time": "2025-03-20T15:57:54.587949",
     "status": "completed"
    },
    "tags": []
   },
   "outputs": [
    {
     "name": "stdout",
     "output_type": "stream",
     "text": [
      "/kaggle/input/playground-series-s5e3/sample_submission.csv\n",
      "/kaggle/input/playground-series-s5e3/train.csv\n",
      "/kaggle/input/playground-series-s5e3/test.csv\n"
     ]
    }
   ],
   "source": [
    "# This Python 3 environment comes with many helpful analytics libraries installed\n",
    "# It is defined by the kaggle/python Docker image: https://github.com/kaggle/docker-python\n",
    "# For example, here's several helpful packages to load\n",
    "\n",
    "import numpy as np # linear algebra\n",
    "import pandas as pd # data processing, CSV file I/O (e.g. pd.read_csv)\n",
    "\n",
    "# Input data files are available in the read-only \"../input/\" directory\n",
    "# For example, running this (by clicking run or pressing Shift+Enter) will list all files under the input directory\n",
    "\n",
    "import os\n",
    "for dirname, _, filenames in os.walk('/kaggle/input'):\n",
    "    for filename in filenames:\n",
    "        print(os.path.join(dirname, filename))\n",
    "\n",
    "# You can write up to 20GB to the current directory (/kaggle/working/) that gets preserved as output when you create a version using \"Save & Run All\" \n",
    "# You can also write temporary files to /kaggle/temp/, but they won't be saved outside of the current session"
   ]
  },
  {
   "cell_type": "code",
   "execution_count": 2,
   "id": "ceb0ca61",
   "metadata": {
    "execution": {
     "iopub.execute_input": "2025-03-20T15:57:55.666602Z",
     "iopub.status.busy": "2025-03-20T15:57:55.666046Z",
     "iopub.status.idle": "2025-03-20T15:58:02.556747Z",
     "shell.execute_reply": "2025-03-20T15:58:02.555635Z"
    },
    "papermill": {
     "duration": 6.897262,
     "end_time": "2025-03-20T15:58:02.558872",
     "exception": false,
     "start_time": "2025-03-20T15:57:55.661610",
     "status": "completed"
    },
    "tags": []
   },
   "outputs": [],
   "source": [
    "import pandas as pd\n",
    "import numpy as np\n",
    "import requests\n",
    "from bs4 import BeautifulSoup\n",
    "from io import StringIO\n",
    "from sklearn.linear_model import LinearRegression\n",
    "import matplotlib.pyplot as plt\n",
    "import plotly.express as px\n",
    "import matplotlib as mpl\n",
    "import seaborn as sns\n",
    "from sklearn.model_selection import train_test_split\n",
    "from sklearn.metrics import mean_squared_error\n",
    "from sklearn.linear_model import LinearRegression\n",
    "import openpyxl\n",
    "import plotly.graph_objects as go\n",
    "from matplotlib.sankey import Sankey\n",
    "from xgboost import XGBRegressor\n",
    "import statsmodels.api as sm\n",
    "from sklearn.preprocessing import StandardScaler\n",
    "from sklearn.linear_model import Ridge\n",
    "from sklearn.metrics import mean_squared_error"
   ]
  },
  {
   "cell_type": "code",
   "execution_count": 3,
   "id": "cf786e7b",
   "metadata": {
    "execution": {
     "iopub.execute_input": "2025-03-20T15:58:02.568056Z",
     "iopub.status.busy": "2025-03-20T15:58:02.567424Z",
     "iopub.status.idle": "2025-03-20T15:58:02.572051Z",
     "shell.execute_reply": "2025-03-20T15:58:02.570896Z"
    },
    "papermill": {
     "duration": 0.011081,
     "end_time": "2025-03-20T15:58:02.573850",
     "exception": false,
     "start_time": "2025-03-20T15:58:02.562769",
     "status": "completed"
    },
    "tags": []
   },
   "outputs": [],
   "source": [
    "rain_train = \"/kaggle/input/playground-series-s5e3/train.csv\"\n",
    "rain_test = \"/kaggle/input/playground-series-s5e3/test.csv\""
   ]
  },
  {
   "cell_type": "code",
   "execution_count": 4,
   "id": "cea31aec",
   "metadata": {
    "execution": {
     "iopub.execute_input": "2025-03-20T15:58:02.582728Z",
     "iopub.status.busy": "2025-03-20T15:58:02.582363Z",
     "iopub.status.idle": "2025-03-20T15:58:02.608210Z",
     "shell.execute_reply": "2025-03-20T15:58:02.607090Z"
    },
    "papermill": {
     "duration": 0.032359,
     "end_time": "2025-03-20T15:58:02.610112",
     "exception": false,
     "start_time": "2025-03-20T15:58:02.577753",
     "status": "completed"
    },
    "tags": []
   },
   "outputs": [],
   "source": [
    "rain_train_df = pd.read_csv(rain_train)"
   ]
  },
  {
   "cell_type": "code",
   "execution_count": 5,
   "id": "1aa6479f",
   "metadata": {
    "execution": {
     "iopub.execute_input": "2025-03-20T15:58:02.618764Z",
     "iopub.status.busy": "2025-03-20T15:58:02.618415Z",
     "iopub.status.idle": "2025-03-20T15:58:02.636166Z",
     "shell.execute_reply": "2025-03-20T15:58:02.634963Z"
    },
    "papermill": {
     "duration": 0.024456,
     "end_time": "2025-03-20T15:58:02.638321",
     "exception": false,
     "start_time": "2025-03-20T15:58:02.613865",
     "status": "completed"
    },
    "tags": []
   },
   "outputs": [],
   "source": [
    "rain_test_df = pd.read_csv(rain_test)"
   ]
  },
  {
   "cell_type": "markdown",
   "id": "25d2cf9a",
   "metadata": {
    "papermill": {
     "duration": 0.003318,
     "end_time": "2025-03-20T15:58:02.645529",
     "exception": false,
     "start_time": "2025-03-20T15:58:02.642211",
     "status": "completed"
    },
    "tags": []
   },
   "source": [
    "# Outline"
   ]
  },
  {
   "cell_type": "markdown",
   "id": "7580bc19",
   "metadata": {
    "papermill": {
     "duration": 0.003171,
     "end_time": "2025-03-20T15:58:02.652151",
     "exception": false,
     "start_time": "2025-03-20T15:58:02.648980",
     "status": "completed"
    },
    "tags": []
   },
   "source": [
    "Objective: Create a deep learning model to predict rainfall via machine learning.\n",
    "\n",
    "How: Model building. \n",
    "\n",
    "Evaluation: Submissions are evaluated on area under the ROC curve between the predicted probability and the observed target. \n",
    "\n",
    "Prediction Target: rainfall column in rain_train. "
   ]
  },
  {
   "cell_type": "code",
   "execution_count": 6,
   "id": "f1728343",
   "metadata": {
    "execution": {
     "iopub.execute_input": "2025-03-20T15:58:02.660436Z",
     "iopub.status.busy": "2025-03-20T15:58:02.660016Z",
     "iopub.status.idle": "2025-03-20T15:58:02.672226Z",
     "shell.execute_reply": "2025-03-20T15:58:02.671048Z"
    },
    "papermill": {
     "duration": 0.018336,
     "end_time": "2025-03-20T15:58:02.673973",
     "exception": false,
     "start_time": "2025-03-20T15:58:02.655637",
     "status": "completed"
    },
    "tags": []
   },
   "outputs": [],
   "source": [
    "for df in [rain_train_df, rain_test_df]:\n",
    "    df['dewpoint_temparature_windspeed'] = df['windspeed'] * df['temparature'] * df['dewpoint']"
   ]
  },
  {
   "cell_type": "code",
   "execution_count": 7,
   "id": "ef457ebc",
   "metadata": {
    "execution": {
     "iopub.execute_input": "2025-03-20T15:58:02.683231Z",
     "iopub.status.busy": "2025-03-20T15:58:02.682881Z",
     "iopub.status.idle": "2025-03-20T15:58:02.691560Z",
     "shell.execute_reply": "2025-03-20T15:58:02.690447Z"
    },
    "papermill": {
     "duration": 0.015394,
     "end_time": "2025-03-20T15:58:02.693170",
     "exception": false,
     "start_time": "2025-03-20T15:58:02.677776",
     "status": "completed"
    },
    "tags": []
   },
   "outputs": [],
   "source": [
    "max_sunshine = rain_train_df['sunshine'].max()\n",
    "min_sunshine = rain_train_df['sunshine'].min()\n",
    "\n",
    "for df in [rain_train_df, rain_test_df]:\n",
    "    df['sunshine_normalized'] = (df['sunshine'] - min_sunshine) / (max_sunshine - min_sunshine)\n",
    "    # Invert the sunshine effect (higher sunshine -> lower cloud cover)\n",
    "    df['sunshine_cloud'] = 1 - df['sunshine_normalized']"
   ]
  },
  {
   "cell_type": "markdown",
   "id": "da0a5588",
   "metadata": {
    "papermill": {
     "duration": 0.00337,
     "end_time": "2025-03-20T15:58:02.700516",
     "exception": false,
     "start_time": "2025-03-20T15:58:02.697146",
     "status": "completed"
    },
    "tags": []
   },
   "source": [
    "# Modelling"
   ]
  },
  {
   "cell_type": "code",
   "execution_count": 8,
   "id": "c93dc5fd",
   "metadata": {
    "execution": {
     "iopub.execute_input": "2025-03-20T15:58:02.708953Z",
     "iopub.status.busy": "2025-03-20T15:58:02.708605Z",
     "iopub.status.idle": "2025-03-20T15:58:02.712751Z",
     "shell.execute_reply": "2025-03-20T15:58:02.711645Z"
    },
    "papermill": {
     "duration": 0.010447,
     "end_time": "2025-03-20T15:58:02.714486",
     "exception": false,
     "start_time": "2025-03-20T15:58:02.704039",
     "status": "completed"
    },
    "tags": []
   },
   "outputs": [],
   "source": [
    "feature_columns = ['windspeed', 'dewpoint', 'humidity', 'sunshine_cloud', 'temparature', 'dewpoint_temparature_windspeed']"
   ]
  },
  {
   "cell_type": "code",
   "execution_count": 9,
   "id": "a9fea5f4",
   "metadata": {
    "execution": {
     "iopub.execute_input": "2025-03-20T15:58:02.723369Z",
     "iopub.status.busy": "2025-03-20T15:58:02.722942Z",
     "iopub.status.idle": "2025-03-20T15:58:02.734998Z",
     "shell.execute_reply": "2025-03-20T15:58:02.733767Z"
    },
    "papermill": {
     "duration": 0.018414,
     "end_time": "2025-03-20T15:58:02.736784",
     "exception": false,
     "start_time": "2025-03-20T15:58:02.718370",
     "status": "completed"
    },
    "tags": []
   },
   "outputs": [],
   "source": [
    "# Split training data\n",
    "X_train = rain_train_df[feature_columns]\n",
    "y_train = rain_train_df['rainfall']"
   ]
  },
  {
   "cell_type": "code",
   "execution_count": 10,
   "id": "617d92fd",
   "metadata": {
    "execution": {
     "iopub.execute_input": "2025-03-20T15:58:02.745627Z",
     "iopub.status.busy": "2025-03-20T15:58:02.745186Z",
     "iopub.status.idle": "2025-03-20T15:58:02.897606Z",
     "shell.execute_reply": "2025-03-20T15:58:02.896537Z"
    },
    "papermill": {
     "duration": 0.158721,
     "end_time": "2025-03-20T15:58:02.899370",
     "exception": false,
     "start_time": "2025-03-20T15:58:02.740649",
     "status": "completed"
    },
    "tags": []
   },
   "outputs": [
    {
     "data": {
      "text/html": [
       "<style>#sk-container-id-1 {color: black;background-color: white;}#sk-container-id-1 pre{padding: 0;}#sk-container-id-1 div.sk-toggleable {background-color: white;}#sk-container-id-1 label.sk-toggleable__label {cursor: pointer;display: block;width: 100%;margin-bottom: 0;padding: 0.3em;box-sizing: border-box;text-align: center;}#sk-container-id-1 label.sk-toggleable__label-arrow:before {content: \"▸\";float: left;margin-right: 0.25em;color: #696969;}#sk-container-id-1 label.sk-toggleable__label-arrow:hover:before {color: black;}#sk-container-id-1 div.sk-estimator:hover label.sk-toggleable__label-arrow:before {color: black;}#sk-container-id-1 div.sk-toggleable__content {max-height: 0;max-width: 0;overflow: hidden;text-align: left;background-color: #f0f8ff;}#sk-container-id-1 div.sk-toggleable__content pre {margin: 0.2em;color: black;border-radius: 0.25em;background-color: #f0f8ff;}#sk-container-id-1 input.sk-toggleable__control:checked~div.sk-toggleable__content {max-height: 200px;max-width: 100%;overflow: auto;}#sk-container-id-1 input.sk-toggleable__control:checked~label.sk-toggleable__label-arrow:before {content: \"▾\";}#sk-container-id-1 div.sk-estimator input.sk-toggleable__control:checked~label.sk-toggleable__label {background-color: #d4ebff;}#sk-container-id-1 div.sk-label input.sk-toggleable__control:checked~label.sk-toggleable__label {background-color: #d4ebff;}#sk-container-id-1 input.sk-hidden--visually {border: 0;clip: rect(1px 1px 1px 1px);clip: rect(1px, 1px, 1px, 1px);height: 1px;margin: -1px;overflow: hidden;padding: 0;position: absolute;width: 1px;}#sk-container-id-1 div.sk-estimator {font-family: monospace;background-color: #f0f8ff;border: 1px dotted black;border-radius: 0.25em;box-sizing: border-box;margin-bottom: 0.5em;}#sk-container-id-1 div.sk-estimator:hover {background-color: #d4ebff;}#sk-container-id-1 div.sk-parallel-item::after {content: \"\";width: 100%;border-bottom: 1px solid gray;flex-grow: 1;}#sk-container-id-1 div.sk-label:hover label.sk-toggleable__label {background-color: #d4ebff;}#sk-container-id-1 div.sk-serial::before {content: \"\";position: absolute;border-left: 1px solid gray;box-sizing: border-box;top: 0;bottom: 0;left: 50%;z-index: 0;}#sk-container-id-1 div.sk-serial {display: flex;flex-direction: column;align-items: center;background-color: white;padding-right: 0.2em;padding-left: 0.2em;position: relative;}#sk-container-id-1 div.sk-item {position: relative;z-index: 1;}#sk-container-id-1 div.sk-parallel {display: flex;align-items: stretch;justify-content: center;background-color: white;position: relative;}#sk-container-id-1 div.sk-item::before, #sk-container-id-1 div.sk-parallel-item::before {content: \"\";position: absolute;border-left: 1px solid gray;box-sizing: border-box;top: 0;bottom: 0;left: 50%;z-index: -1;}#sk-container-id-1 div.sk-parallel-item {display: flex;flex-direction: column;z-index: 1;position: relative;background-color: white;}#sk-container-id-1 div.sk-parallel-item:first-child::after {align-self: flex-end;width: 50%;}#sk-container-id-1 div.sk-parallel-item:last-child::after {align-self: flex-start;width: 50%;}#sk-container-id-1 div.sk-parallel-item:only-child::after {width: 0;}#sk-container-id-1 div.sk-dashed-wrapped {border: 1px dashed gray;margin: 0 0.4em 0.5em 0.4em;box-sizing: border-box;padding-bottom: 0.4em;background-color: white;}#sk-container-id-1 div.sk-label label {font-family: monospace;font-weight: bold;display: inline-block;line-height: 1.2em;}#sk-container-id-1 div.sk-label-container {text-align: center;}#sk-container-id-1 div.sk-container {/* jupyter's `normalize.less` sets `[hidden] { display: none; }` but bootstrap.min.css set `[hidden] { display: none !important; }` so we also need the `!important` here to be able to override the default hidden behavior on the sphinx rendered scikit-learn.org. See: https://github.com/scikit-learn/scikit-learn/issues/21755 */display: inline-block !important;position: relative;}#sk-container-id-1 div.sk-text-repr-fallback {display: none;}</style><div id=\"sk-container-id-1\" class=\"sk-top-container\"><div class=\"sk-text-repr-fallback\"><pre>XGBRegressor(base_score=None, booster=None, callbacks=None,\n",
       "             colsample_bylevel=None, colsample_bynode=None,\n",
       "             colsample_bytree=None, device=None, early_stopping_rounds=None,\n",
       "             enable_categorical=False, eval_metric=None, feature_types=None,\n",
       "             gamma=None, grow_policy=None, importance_type=None,\n",
       "             interaction_constraints=None, learning_rate=0.1, max_bin=None,\n",
       "             max_cat_threshold=None, max_cat_to_onehot=None,\n",
       "             max_delta_step=None, max_depth=5, max_leaves=None,\n",
       "             min_child_weight=None, missing=nan, monotone_constraints=None,\n",
       "             multi_strategy=None, n_estimators=100, n_jobs=None,\n",
       "             num_parallel_tree=None, random_state=42, ...)</pre><b>In a Jupyter environment, please rerun this cell to show the HTML representation or trust the notebook. <br />On GitHub, the HTML representation is unable to render, please try loading this page with nbviewer.org.</b></div><div class=\"sk-container\" hidden><div class=\"sk-item\"><div class=\"sk-estimator sk-toggleable\"><input class=\"sk-toggleable__control sk-hidden--visually\" id=\"sk-estimator-id-1\" type=\"checkbox\" checked><label for=\"sk-estimator-id-1\" class=\"sk-toggleable__label sk-toggleable__label-arrow\">XGBRegressor</label><div class=\"sk-toggleable__content\"><pre>XGBRegressor(base_score=None, booster=None, callbacks=None,\n",
       "             colsample_bylevel=None, colsample_bynode=None,\n",
       "             colsample_bytree=None, device=None, early_stopping_rounds=None,\n",
       "             enable_categorical=False, eval_metric=None, feature_types=None,\n",
       "             gamma=None, grow_policy=None, importance_type=None,\n",
       "             interaction_constraints=None, learning_rate=0.1, max_bin=None,\n",
       "             max_cat_threshold=None, max_cat_to_onehot=None,\n",
       "             max_delta_step=None, max_depth=5, max_leaves=None,\n",
       "             min_child_weight=None, missing=nan, monotone_constraints=None,\n",
       "             multi_strategy=None, n_estimators=100, n_jobs=None,\n",
       "             num_parallel_tree=None, random_state=42, ...)</pre></div></div></div></div></div>"
      ],
      "text/plain": [
       "XGBRegressor(base_score=None, booster=None, callbacks=None,\n",
       "             colsample_bylevel=None, colsample_bynode=None,\n",
       "             colsample_bytree=None, device=None, early_stopping_rounds=None,\n",
       "             enable_categorical=False, eval_metric=None, feature_types=None,\n",
       "             gamma=None, grow_policy=None, importance_type=None,\n",
       "             interaction_constraints=None, learning_rate=0.1, max_bin=None,\n",
       "             max_cat_threshold=None, max_cat_to_onehot=None,\n",
       "             max_delta_step=None, max_depth=5, max_leaves=None,\n",
       "             min_child_weight=None, missing=nan, monotone_constraints=None,\n",
       "             multi_strategy=None, n_estimators=100, n_jobs=None,\n",
       "             num_parallel_tree=None, random_state=42, ...)"
      ]
     },
     "execution_count": 10,
     "metadata": {},
     "output_type": "execute_result"
    }
   ],
   "source": [
    "# Initialize and train the model\n",
    "xgb_model = XGBRegressor(n_estimators=100, learning_rate=0.1, max_depth=5, random_state=42)\n",
    "xgb_model.fit(X_train, y_train)"
   ]
  },
  {
   "cell_type": "code",
   "execution_count": 11,
   "id": "0b505a8d",
   "metadata": {
    "execution": {
     "iopub.execute_input": "2025-03-20T15:58:02.908769Z",
     "iopub.status.busy": "2025-03-20T15:58:02.908398Z",
     "iopub.status.idle": "2025-03-20T15:58:02.919212Z",
     "shell.execute_reply": "2025-03-20T15:58:02.918376Z"
    },
    "papermill": {
     "duration": 0.017856,
     "end_time": "2025-03-20T15:58:02.921355",
     "exception": false,
     "start_time": "2025-03-20T15:58:02.903499",
     "status": "completed"
    },
    "tags": []
   },
   "outputs": [],
   "source": [
    "X_test = rain_test_df[feature_columns]\n",
    "rain_test_df['rainfall'] = xgb_model.predict(X_test)  # Add predictions to test DataFrame"
   ]
  },
  {
   "cell_type": "code",
   "execution_count": 12,
   "id": "0945a2dc",
   "metadata": {
    "execution": {
     "iopub.execute_input": "2025-03-20T15:58:02.933022Z",
     "iopub.status.busy": "2025-03-20T15:58:02.932651Z",
     "iopub.status.idle": "2025-03-20T15:58:02.945997Z",
     "shell.execute_reply": "2025-03-20T15:58:02.944907Z"
    },
    "papermill": {
     "duration": 0.020976,
     "end_time": "2025-03-20T15:58:02.947527",
     "exception": false,
     "start_time": "2025-03-20T15:58:02.926551",
     "status": "completed"
    },
    "tags": []
   },
   "outputs": [
    {
     "name": "stdout",
     "output_type": "stream",
     "text": [
      "Submission file saved successfully!\n"
     ]
    }
   ],
   "source": [
    "submission = rain_test_df[['id', 'rainfall']]\n",
    "\n",
    "# If ordered and un_ordered are required and available in test:\n",
    "# submission['ordered'] = pastry_test_df['ordered']\n",
    "# submission['un_ordered'] = pastry_test_df['un_ordered']\n",
    "\n",
    "# Save submission file\n",
    "submission.to_csv('submission.csv', index=False)\n",
    "print(\"Submission file saved successfully!\")"
   ]
  }
 ],
 "metadata": {
  "kaggle": {
   "accelerator": "none",
   "dataSources": [
    {
     "databundleVersionId": 11251744,
     "sourceId": 91714,
     "sourceType": "competition"
    }
   ],
   "dockerImageVersionId": 30918,
   "isGpuEnabled": false,
   "isInternetEnabled": true,
   "language": "python",
   "sourceType": "notebook"
  },
  "kernelspec": {
   "display_name": "Python 3",
   "language": "python",
   "name": "python3"
  },
  "language_info": {
   "codemirror_mode": {
    "name": "ipython",
    "version": 3
   },
   "file_extension": ".py",
   "mimetype": "text/x-python",
   "name": "python",
   "nbconvert_exporter": "python",
   "pygments_lexer": "ipython3",
   "version": "3.10.12"
  },
  "papermill": {
   "default_parameters": {},
   "duration": 12.298948,
   "end_time": "2025-03-20T15:58:03.874271",
   "environment_variables": {},
   "exception": null,
   "input_path": "__notebook__.ipynb",
   "output_path": "__notebook__.ipynb",
   "parameters": {},
   "start_time": "2025-03-20T15:57:51.575323",
   "version": "2.6.0"
  }
 },
 "nbformat": 4,
 "nbformat_minor": 5
}
