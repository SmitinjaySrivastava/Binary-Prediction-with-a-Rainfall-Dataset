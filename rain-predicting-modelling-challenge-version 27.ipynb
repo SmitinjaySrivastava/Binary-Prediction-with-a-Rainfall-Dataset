{
 "cells": [
  {
   "cell_type": "code",
   "execution_count": 1,
   "id": "79ab48ce",
   "metadata": {
    "_cell_guid": "b1076dfc-b9ad-4769-8c92-a6c4dae69d19",
    "_uuid": "8f2839f25d086af736a60e9eeb907d3b93b6e0e5",
    "execution": {
     "iopub.execute_input": "2025-03-25T17:47:36.260291Z",
     "iopub.status.busy": "2025-03-25T17:47:36.259899Z",
     "iopub.status.idle": "2025-03-25T17:47:37.252136Z",
     "shell.execute_reply": "2025-03-25T17:47:37.250754Z"
    },
    "papermill": {
     "duration": 1.000218,
     "end_time": "2025-03-25T17:47:37.254208",
     "exception": false,
     "start_time": "2025-03-25T17:47:36.253990",
     "status": "completed"
    },
    "tags": []
   },
   "outputs": [
    {
     "name": "stdout",
     "output_type": "stream",
     "text": [
      "/kaggle/input/playground-series-s5e3/sample_submission.csv\n",
      "/kaggle/input/playground-series-s5e3/train.csv\n",
      "/kaggle/input/playground-series-s5e3/test.csv\n"
     ]
    }
   ],
   "source": [
    "# This Python 3 environment comes with many helpful analytics libraries installed\n",
    "# It is defined by the kaggle/python Docker image: https://github.com/kaggle/docker-python\n",
    "# For example, here's several helpful packages to load\n",
    "\n",
    "import numpy as np # linear algebra\n",
    "import pandas as pd # data processing, CSV file I/O (e.g. pd.read_csv)\n",
    "\n",
    "# Input data files are available in the read-only \"../input/\" directory\n",
    "# For example, running this (by clicking run or pressing Shift+Enter) will list all files under the input directory\n",
    "\n",
    "import os\n",
    "for dirname, _, filenames in os.walk('/kaggle/input'):\n",
    "    for filename in filenames:\n",
    "        print(os.path.join(dirname, filename))\n",
    "\n",
    "# You can write up to 20GB to the current directory (/kaggle/working/) that gets preserved as output when you create a version using \"Save & Run All\" \n",
    "# You can also write temporary files to /kaggle/temp/, but they won't be saved outside of the current session"
   ]
  },
  {
   "cell_type": "code",
   "execution_count": 2,
   "id": "7c7a7453",
   "metadata": {
    "execution": {
     "iopub.execute_input": "2025-03-25T17:47:37.265205Z",
     "iopub.status.busy": "2025-03-25T17:47:37.264668Z",
     "iopub.status.idle": "2025-03-25T17:47:43.842271Z",
     "shell.execute_reply": "2025-03-25T17:47:43.841304Z"
    },
    "papermill": {
     "duration": 6.584939,
     "end_time": "2025-03-25T17:47:43.844208",
     "exception": false,
     "start_time": "2025-03-25T17:47:37.259269",
     "status": "completed"
    },
    "tags": []
   },
   "outputs": [],
   "source": [
    "import pandas as pd\n",
    "import numpy as np\n",
    "import requests\n",
    "from bs4 import BeautifulSoup\n",
    "from io import StringIO\n",
    "from sklearn.linear_model import LinearRegression\n",
    "import matplotlib.pyplot as plt\n",
    "import plotly.express as px\n",
    "import matplotlib as mpl\n",
    "import seaborn as sns\n",
    "from sklearn.model_selection import train_test_split\n",
    "from sklearn.metrics import mean_squared_error\n",
    "from sklearn.linear_model import LinearRegression\n",
    "import openpyxl\n",
    "import plotly.graph_objects as go\n",
    "from matplotlib.sankey import Sankey\n",
    "from xgboost import XGBRegressor\n",
    "import statsmodels.api as sm\n",
    "from sklearn.preprocessing import StandardScaler\n",
    "from sklearn.linear_model import Ridge\n",
    "from sklearn.preprocessing import PolynomialFeatures\n",
    "from sklearn.pipeline import Pipeline\n",
    "from sklearn.neighbors import KNeighborsRegressor\n",
    "from sklearn.ensemble import StackingRegressor"
   ]
  },
  {
   "cell_type": "code",
   "execution_count": 3,
   "id": "5d1a0916",
   "metadata": {
    "execution": {
     "iopub.execute_input": "2025-03-25T17:47:43.854027Z",
     "iopub.status.busy": "2025-03-25T17:47:43.853365Z",
     "iopub.status.idle": "2025-03-25T17:47:43.857859Z",
     "shell.execute_reply": "2025-03-25T17:47:43.856905Z"
    },
    "papermill": {
     "duration": 0.011135,
     "end_time": "2025-03-25T17:47:43.859515",
     "exception": false,
     "start_time": "2025-03-25T17:47:43.848380",
     "status": "completed"
    },
    "tags": []
   },
   "outputs": [],
   "source": [
    "rain_train = \"/kaggle/input/playground-series-s5e3/train.csv\"\n",
    "rain_test = \"/kaggle/input/playground-series-s5e3/test.csv\""
   ]
  },
  {
   "cell_type": "code",
   "execution_count": 4,
   "id": "64a95b34",
   "metadata": {
    "execution": {
     "iopub.execute_input": "2025-03-25T17:47:43.868657Z",
     "iopub.status.busy": "2025-03-25T17:47:43.868333Z",
     "iopub.status.idle": "2025-03-25T17:47:43.888875Z",
     "shell.execute_reply": "2025-03-25T17:47:43.887807Z"
    },
    "papermill": {
     "duration": 0.027019,
     "end_time": "2025-03-25T17:47:43.890678",
     "exception": false,
     "start_time": "2025-03-25T17:47:43.863659",
     "status": "completed"
    },
    "tags": []
   },
   "outputs": [],
   "source": [
    "rain_train_df = pd.read_csv(rain_train)"
   ]
  },
  {
   "cell_type": "code",
   "execution_count": 5,
   "id": "b8f86554",
   "metadata": {
    "execution": {
     "iopub.execute_input": "2025-03-25T17:47:43.899789Z",
     "iopub.status.busy": "2025-03-25T17:47:43.899372Z",
     "iopub.status.idle": "2025-03-25T17:47:43.908632Z",
     "shell.execute_reply": "2025-03-25T17:47:43.907795Z"
    },
    "papermill": {
     "duration": 0.015486,
     "end_time": "2025-03-25T17:47:43.910332",
     "exception": false,
     "start_time": "2025-03-25T17:47:43.894846",
     "status": "completed"
    },
    "tags": []
   },
   "outputs": [],
   "source": [
    "rain_test_df = pd.read_csv(rain_test)"
   ]
  },
  {
   "cell_type": "markdown",
   "id": "3bed8088",
   "metadata": {
    "papermill": {
     "duration": 0.003733,
     "end_time": "2025-03-25T17:47:43.918122",
     "exception": false,
     "start_time": "2025-03-25T17:47:43.914389",
     "status": "completed"
    },
    "tags": []
   },
   "source": [
    "# Outline"
   ]
  },
  {
   "cell_type": "markdown",
   "id": "e88c30ac",
   "metadata": {
    "papermill": {
     "duration": 0.003441,
     "end_time": "2025-03-25T17:47:43.925404",
     "exception": false,
     "start_time": "2025-03-25T17:47:43.921963",
     "status": "completed"
    },
    "tags": []
   },
   "source": [
    "Objective: Create a deep learning model to predict rainfall via machine learning.\n",
    "\n",
    "How: Model building. \n",
    "\n",
    "Evaluation: Submissions are evaluated on area under the ROC curve between the predicted probability and the observed target. \n",
    "\n",
    "Prediction Target: rainfall column in rain_train. "
   ]
  },
  {
   "cell_type": "code",
   "execution_count": 6,
   "id": "7062b209",
   "metadata": {
    "execution": {
     "iopub.execute_input": "2025-03-25T17:47:43.934185Z",
     "iopub.status.busy": "2025-03-25T17:47:43.933832Z",
     "iopub.status.idle": "2025-03-25T17:47:43.939086Z",
     "shell.execute_reply": "2025-03-25T17:47:43.938150Z"
    },
    "papermill": {
     "duration": 0.011516,
     "end_time": "2025-03-25T17:47:43.940584",
     "exception": false,
     "start_time": "2025-03-25T17:47:43.929068",
     "status": "completed"
    },
    "tags": []
   },
   "outputs": [],
   "source": [
    "def categorize_wind_dir(degree):\n",
    "    \"\"\"\n",
    "    Categorizes wind direction degrees into cardinal directions.\n",
    "    Assumes degree is between 0° and 360°.\n",
    "    \"\"\"\n",
    "    if 45 <= degree < 135:\n",
    "        return 'East'\n",
    "    elif 135 <= degree < 225:\n",
    "        return 'South'\n",
    "    elif 225 <= degree < 315:\n",
    "        return 'West'\n",
    "    else:\n",
    "        return 'North'  # Includes 315–360 and 0–44"
   ]
  },
  {
   "cell_type": "code",
   "execution_count": 7,
   "id": "5f77f9d9",
   "metadata": {
    "execution": {
     "iopub.execute_input": "2025-03-25T17:47:43.950035Z",
     "iopub.status.busy": "2025-03-25T17:47:43.949588Z",
     "iopub.status.idle": "2025-03-25T17:47:43.953926Z",
     "shell.execute_reply": "2025-03-25T17:47:43.953042Z"
    },
    "papermill": {
     "duration": 0.010754,
     "end_time": "2025-03-25T17:47:43.955507",
     "exception": false,
     "start_time": "2025-03-25T17:47:43.944753",
     "status": "completed"
    },
    "tags": []
   },
   "outputs": [],
   "source": [
    "wind_source_map = {'North': 0, 'East': 1, 'South': 2, 'West': 3}"
   ]
  },
  {
   "cell_type": "code",
   "execution_count": 8,
   "id": "5a64a90e",
   "metadata": {
    "execution": {
     "iopub.execute_input": "2025-03-25T17:47:43.964911Z",
     "iopub.status.busy": "2025-03-25T17:47:43.964525Z",
     "iopub.status.idle": "2025-03-25T17:47:43.988997Z",
     "shell.execute_reply": "2025-03-25T17:47:43.987979Z"
    },
    "papermill": {
     "duration": 0.03128,
     "end_time": "2025-03-25T17:47:43.990932",
     "exception": false,
     "start_time": "2025-03-25T17:47:43.959652",
     "status": "completed"
    },
    "tags": []
   },
   "outputs": [],
   "source": [
    "for df in [rain_train_df, rain_test_df]:\n",
    "    df.sort_values('day')\n",
    "    df['pressure_gradient'] = df['pressure'].diff()\n",
    "    df['pressure_gradient'] = df['pressure_gradient'].fillna(0)\n",
    "    df['pressure_dropping'] = (df['pressure_gradient'] < 0).astype(int)\n",
    "    df['moisture_wind'] = df['winddirection'].apply(lambda x: 1 if 180 <= x <= 270 else 0)\n",
    "    df['pressure_wind_flow'] = df['pressure_dropping'] * df['moisture_wind'] * df['windspeed']"
   ]
  },
  {
   "cell_type": "code",
   "execution_count": 9,
   "id": "d2bc83ed",
   "metadata": {
    "execution": {
     "iopub.execute_input": "2025-03-25T17:47:44.000180Z",
     "iopub.status.busy": "2025-03-25T17:47:43.999845Z",
     "iopub.status.idle": "2025-03-25T17:47:44.014210Z",
     "shell.execute_reply": "2025-03-25T17:47:44.013250Z"
    },
    "papermill": {
     "duration": 0.020702,
     "end_time": "2025-03-25T17:47:44.015819",
     "exception": false,
     "start_time": "2025-03-25T17:47:43.995117",
     "status": "completed"
    },
    "tags": []
   },
   "outputs": [],
   "source": [
    "for df in [rain_train_df, rain_test_df]:\n",
    "    df['cloud_pressure_temperature'] = df['cloud'] + df['pressure_gradient']\n",
    "    df['windspeed_humidity'] = df['windspeed'] + df['humidity']\n",
    "    df['wind'] = df['winddirection'].apply(categorize_wind_dir).map(wind_source_map) + df['windspeed_humidity'] + df['pressure_wind_flow']\n",
    "    df['sunshine_pressure'] = df['sunshine'] * (df['pressure_gradient'] < 0).astype(int)"
   ]
  },
  {
   "cell_type": "code",
   "execution_count": 10,
   "id": "59a066ff",
   "metadata": {
    "execution": {
     "iopub.execute_input": "2025-03-25T17:47:44.025103Z",
     "iopub.status.busy": "2025-03-25T17:47:44.024766Z",
     "iopub.status.idle": "2025-03-25T17:47:44.480549Z",
     "shell.execute_reply": "2025-03-25T17:47:44.479400Z"
    },
    "papermill": {
     "duration": 0.462378,
     "end_time": "2025-03-25T17:47:44.482346",
     "exception": false,
     "start_time": "2025-03-25T17:47:44.019968",
     "status": "completed"
    },
    "tags": []
   },
   "outputs": [
    {
     "name": "stdout",
     "output_type": "stream",
     "text": [
      "                            OLS Regression Results                            \n",
      "==============================================================================\n",
      "Dep. Variable:               rainfall   R-squared:                       0.421\n",
      "Model:                            OLS   Adj. R-squared:                  0.420\n",
      "Method:                 Least Squares   F-statistic:                     317.4\n",
      "Date:                Tue, 25 Mar 2025   Prob (F-statistic):          6.65e-256\n",
      "Time:                        17:47:44   Log-Likelihood:                -666.24\n",
      "No. Observations:                2190   AIC:                             1344.\n",
      "Df Residuals:                    2184   BIC:                             1379.\n",
      "Df Model:                           5                                         \n",
      "Covariance Type:            nonrobust                                         \n",
      "==============================================================================================\n",
      "                                 coef    std err          t      P>|t|      [0.025      0.975]\n",
      "----------------------------------------------------------------------------------------------\n",
      "const                         -0.6855      0.072     -9.587      0.000      -0.826      -0.545\n",
      "temparature                   -0.0196      0.004     -4.655      0.000      -0.028      -0.011\n",
      "dewpoint                       0.0289      0.004      7.123      0.000       0.021       0.037\n",
      "wind                           0.0024      0.000      4.880      0.000       0.001       0.003\n",
      "sunshine_pressure              0.0041      0.003      1.507      0.132      -0.001       0.009\n",
      "cloud_pressure_temperature     0.0138      0.001     27.247      0.000       0.013       0.015\n",
      "==============================================================================\n",
      "Omnibus:                      287.407   Durbin-Watson:                   1.944\n",
      "Prob(Omnibus):                  0.000   Jarque-Bera (JB):              448.512\n",
      "Skew:                          -0.914   Prob(JB):                     4.04e-98\n",
      "Kurtosis:                       4.256   Cond. No.                     1.40e+03\n",
      "==============================================================================\n",
      "\n",
      "Notes:\n",
      "[1] Standard Errors assume that the covariance matrix of the errors is correctly specified.\n",
      "[2] The condition number is large, 1.4e+03. This might indicate that there are\n",
      "strong multicollinearity or other numerical problems.\n"
     ]
    },
    {
     "name": "stderr",
     "output_type": "stream",
     "text": [
      "/usr/local/lib/python3.10/dist-packages/seaborn/_oldcore.py:1119: FutureWarning: use_inf_as_na option is deprecated and will be removed in a future version. Convert inf values to NaN before operating instead.\n",
      "  with pd.option_context('mode.use_inf_as_na', True):\n"
     ]
    },
    {
     "data": {
      "image/png": "[encoded data removed]",
      "text/plain": [
       "<Figure size 640x480 with 1 Axes>"
      ]
     },
     "metadata": {},
     "output_type": "display_data"
    },
    {
     "name": "stdout",
     "output_type": "stream",
     "text": [
      "\n",
      "🚀 **Significant Variables at α = 0.05:**\n",
      "✅ const (p-value: 0.0000)\n",
      "✅ temparature (p-value: 0.0000)\n",
      "✅ dewpoint (p-value: 0.0000)\n",
      "✅ wind (p-value: 0.0000)\n",
      "✅ cloud_pressure_temperature (p-value: 0.0000)\n"
     ]
    }
   ],
   "source": [
    "X = rain_train_df[[\"temparature\",\"dewpoint\", \"wind\", \"sunshine_pressure\", \"cloud_pressure_temperature\"]]\n",
    "y = rain_train_df[\"rainfall\"]\n",
    "\n",
    "\n",
    "X = sm.add_constant(X)\n",
    "\n",
    "\n",
    "model = sm.OLS(y, X).fit()\n",
    "print(model.summary())\n",
    "\n",
    "\n",
    "residuals = model.resid\n",
    "sns.histplot(residuals, kde=True)\n",
    "plt.title(\"Residual Distribution\")\n",
    "plt.show()\n",
    "\n",
    "p_values = model.pvalues\n",
    "\n",
    "\n",
    "significant_vars = p_values[p_values < 0.05].index.tolist()\n",
    "\n",
    "\n",
    "print(\"\\n🚀 **Significant Variables at α = 0.05:**\")\n",
    "for var in significant_vars:\n",
    "    print(f\"✅ {var} (p-value: {p_values[var]:.4f})\") "
   ]
  },
  {
   "cell_type": "markdown",
   "id": "c025b82f",
   "metadata": {
    "papermill": {
     "duration": 0.004526,
     "end_time": "2025-03-25T17:47:44.491893",
     "exception": false,
     "start_time": "2025-03-25T17:47:44.487367",
     "status": "completed"
    },
    "tags": []
   },
   "source": [
    "X = rain_train_df[[\"temparature\", \"maxtemp\", \"mintemp\", \"dewpoint\", \"pressure\", \"windspeed\"]]\n",
    "y = rain_train_df[\"rainfall\"]\n",
    "\n",
    "\n",
    "X = sm.add_constant(X)\n",
    "\n",
    "\n",
    "model = sm.OLS(y, X).fit()\n",
    "print(model.summary())\n",
    "\n",
    "\n",
    "residuals = model.resid\n",
    "sns.histplot(residuals, kde=True)\n",
    "plt.title(\"Residual Distribution\")\n",
    "plt.show()\n",
    "\n",
    "p_values = model.pvalues\n",
    "\n",
    "\n",
    "significant_vars = p_values[p_values < 0.05].index.tolist()\n",
    "\n",
    "\n",
    "print(\"\\n🚀 **Significant Variables at α = 0.05:**\")\n",
    "for var in significant_vars:\n",
    "    print(f\"✅ {var} (p-value: {p_values[var]:.4f})\") "
   ]
  },
  {
   "cell_type": "code",
   "execution_count": null,
   "id": "47c667cf",
   "metadata": {
    "papermill": {
     "duration": 0.004549,
     "end_time": "2025-03-25T17:47:44.501191",
     "exception": false,
     "start_time": "2025-03-25T17:47:44.496642",
     "status": "completed"
    },
    "tags": []
   },
   "outputs": [],
   "source": []
  },
  {
   "cell_type": "markdown",
   "id": "f8480b48",
   "metadata": {
    "papermill": {
     "duration": 0.004557,
     "end_time": "2025-03-25T17:47:44.510496",
     "exception": false,
     "start_time": "2025-03-25T17:47:44.505939",
     "status": "completed"
    },
    "tags": []
   },
   "source": [
    "# Modelling"
   ]
  },
  {
   "cell_type": "code",
   "execution_count": 11,
   "id": "b5924069",
   "metadata": {
    "execution": {
     "iopub.execute_input": "2025-03-25T17:47:44.521581Z",
     "iopub.status.busy": "2025-03-25T17:47:44.521205Z",
     "iopub.status.idle": "2025-03-25T17:47:44.607647Z",
     "shell.execute_reply": "2025-03-25T17:47:44.606312Z"
    },
    "papermill": {
     "duration": 0.094236,
     "end_time": "2025-03-25T17:47:44.609520",
     "exception": false,
     "start_time": "2025-03-25T17:47:44.515284",
     "status": "completed"
    },
    "tags": []
   },
   "outputs": [],
   "source": [
    "from sklearn.preprocessing import StandardScaler, LabelEncoder\n",
    "from sklearn.discriminant_analysis import LinearDiscriminantAnalysis\n",
    "\n",
    "# ⚠️ 1. Define feature columns BEFORE lda is added\n",
    "feature_columns = [col for col in rain_train_df.columns if col not in ['rainfall', 'lda']]\n",
    "\n",
    "# 2. Prepare training data\n",
    "X = rain_train_df[feature_columns].copy()\n",
    "X = X.fillna(X.mean())\n",
    "y = rain_train_df['rainfall']\n",
    "\n",
    "# 3. Scale\n",
    "sc = StandardScaler()\n",
    "X_scaled = sc.fit_transform(X)\n",
    "\n",
    "# 4. Encode target for classification (LDA expects classes)\n",
    "le = LabelEncoder()\n",
    "y_encoded = le.fit_transform(y > 0)  # 0 = no rain, 1 = rain\n",
    "\n",
    "# 5. Fit LDA\n",
    "lda = LinearDiscriminantAnalysis(n_components=1)\n",
    "X_lda = lda.fit_transform(X_scaled, y_encoded)\n",
    "\n",
    "# 6. Add LDA feature\n",
    "rain_train_df['rainfall'] = X_lda\n",
    "\n",
    "# ----- TEST SET -----\n",
    "\n",
    "# 7. Same features for test\n",
    "X_test = rain_test_df[feature_columns].copy()\n",
    "X_test = X_test.fillna(X_test.mean())\n",
    "\n",
    "# 8. Scale using training scaler\n",
    "X_test_scaled = sc.transform(X_test)\n",
    "\n",
    "# 9. Apply LDA\n",
    "X_test_lda = lda.transform(X_test_scaled)\n",
    "\n",
    "# 10. Add to test set\n",
    "rain_test_df['rainfall'] = X_test_lda"
   ]
  },
  {
   "cell_type": "code",
   "execution_count": 12,
   "id": "dd69dbc1",
   "metadata": {
    "execution": {
     "iopub.execute_input": "2025-03-25T17:47:44.620897Z",
     "iopub.status.busy": "2025-03-25T17:47:44.620414Z",
     "iopub.status.idle": "2025-03-25T17:47:44.634905Z",
     "shell.execute_reply": "2025-03-25T17:47:44.633792Z"
    },
    "papermill": {
     "duration": 0.022194,
     "end_time": "2025-03-25T17:47:44.636726",
     "exception": false,
     "start_time": "2025-03-25T17:47:44.614532",
     "status": "completed"
    },
    "tags": []
   },
   "outputs": [
    {
     "name": "stdout",
     "output_type": "stream",
     "text": [
      "Submission file saved successfully!\n"
     ]
    }
   ],
   "source": [
    "submission = rain_test_df[['id', 'rainfall']]\n",
    "\n",
    "# If ordered and un_ordered are required and available in test:\n",
    "# submission['ordered'] = pastry_test_df['ordered']\n",
    "# submission['un_ordered'] = pastry_test_df['un_ordered']\n",
    "\n",
    "# Save submission file\n",
    "submission.to_csv('submission.csv', index=False)\n",
    "print(\"Submission file saved successfully!\")"
   ]
  }
 ],
 "metadata": {
  "kaggle": {
   "accelerator": "none",
   "dataSources": [
    {
     "databundleVersionId": 11251744,
     "sourceId": 91714,
     "sourceType": "competition"
    }
   ],
   "dockerImageVersionId": 30918,
   "isGpuEnabled": false,
   "isInternetEnabled": true,
   "language": "python",
   "sourceType": "notebook"
  },
  "kernelspec": {
   "display_name": "Python 3",
   "language": "python",
   "name": "python3"
  },
  "language_info": {
   "codemirror_mode": {
    "name": "ipython",
    "version": 3
   },
   "file_extension": ".py",
   "mimetype": "text/x-python",
   "name": "python",
   "nbconvert_exporter": "python",
   "pygments_lexer": "ipython3",
   "version": "3.10.12"
  },
  "papermill": {
   "default_parameters": {},
   "duration": 12.199188,
   "end_time": "2025-03-25T17:47:45.562396",
   "environment_variables": {},
   "exception": null,
   "input_path": "__notebook__.ipynb",
   "output_path": "__notebook__.ipynb",
   "parameters": {},
   "start_time": "2025-03-25T17:47:33.363208",
   "version": "2.6.0"
  }
 },
 "nbformat": 4,
 "nbformat_minor": 5
}
