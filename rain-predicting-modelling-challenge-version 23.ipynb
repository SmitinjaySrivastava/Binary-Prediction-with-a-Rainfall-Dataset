{
 "cells": [
  {
   "cell_type": "code",
   "execution_count": 1,
   "id": "a513178e",
   "metadata": {
    "_cell_guid": "b1076dfc-b9ad-4769-8c92-a6c4dae69d19",
    "_uuid": "8f2839f25d086af736a60e9eeb907d3b93b6e0e5",
    "execution": {
     "iopub.execute_input": "2025-03-25T12:46:20.877089Z",
     "iopub.status.busy": "2025-03-25T12:46:20.876697Z",
     "iopub.status.idle": "2025-03-25T12:46:21.834047Z",
     "shell.execute_reply": "2025-03-25T12:46:21.832724Z"
    },
    "papermill": {
     "duration": 0.965622,
     "end_time": "2025-03-25T12:46:21.835864",
     "exception": false,
     "start_time": "2025-03-25T12:46:20.870242",
     "status": "completed"
    },
    "tags": []
   },
   "outputs": [
    {
     "name": "stdout",
     "output_type": "stream",
     "text": [
      "/kaggle/input/playground-series-s5e3/sample_submission.csv\n",
      "/kaggle/input/playground-series-s5e3/train.csv\n",
      "/kaggle/input/playground-series-s5e3/test.csv\n"
     ]
    }
   ],
   "source": [
    "# This Python 3 environment comes with many helpful analytics libraries installed\n",
    "# It is defined by the kaggle/python Docker image: https://github.com/kaggle/docker-python\n",
    "# For example, here's several helpful packages to load\n",
    "\n",
    "import numpy as np # linear algebra\n",
    "import pandas as pd # data processing, CSV file I/O (e.g. pd.read_csv)\n",
    "\n",
    "# Input data files are available in the read-only \"../input/\" directory\n",
    "# For example, running this (by clicking run or pressing Shift+Enter) will list all files under the input directory\n",
    "\n",
    "import os\n",
    "for dirname, _, filenames in os.walk('/kaggle/input'):\n",
    "    for filename in filenames:\n",
    "        print(os.path.join(dirname, filename))\n",
    "\n",
    "# You can write up to 20GB to the current directory (/kaggle/working/) that gets preserved as output when you create a version using \"Save & Run All\" \n",
    "# You can also write temporary files to /kaggle/temp/, but they won't be saved outside of the current session"
   ]
  },
  {
   "cell_type": "code",
   "execution_count": 2,
   "id": "0d4f95aa",
   "metadata": {
    "execution": {
     "iopub.execute_input": "2025-03-25T12:46:21.846748Z",
     "iopub.status.busy": "2025-03-25T12:46:21.846247Z",
     "iopub.status.idle": "2025-03-25T12:46:28.584310Z",
     "shell.execute_reply": "2025-03-25T12:46:28.583171Z"
    },
    "papermill": {
     "duration": 6.745592,
     "end_time": "2025-03-25T12:46:28.586295",
     "exception": false,
     "start_time": "2025-03-25T12:46:21.840703",
     "status": "completed"
    },
    "tags": []
   },
   "outputs": [],
   "source": [
    "import pandas as pd\n",
    "import numpy as np\n",
    "import requests\n",
    "from bs4 import BeautifulSoup\n",
    "from io import StringIO\n",
    "from sklearn.linear_model import LinearRegression\n",
    "import matplotlib.pyplot as plt\n",
    "import plotly.express as px\n",
    "import matplotlib as mpl\n",
    "import seaborn as sns\n",
    "from sklearn.model_selection import train_test_split\n",
    "from sklearn.metrics import mean_squared_error\n",
    "from sklearn.linear_model import LinearRegression\n",
    "import openpyxl\n",
    "import plotly.graph_objects as go\n",
    "from matplotlib.sankey import Sankey\n",
    "from xgboost import XGBRegressor\n",
    "import statsmodels.api as sm\n",
    "from sklearn.preprocessing import StandardScaler\n",
    "from sklearn.linear_model import Ridge\n",
    "from sklearn.preprocessing import PolynomialFeatures\n",
    "from sklearn.pipeline import Pipeline\n",
    "from sklearn.neighbors import KNeighborsRegressor\n",
    "from sklearn.ensemble import StackingRegressor"
   ]
  },
  {
   "cell_type": "code",
   "execution_count": 3,
   "id": "4058eaa8",
   "metadata": {
    "execution": {
     "iopub.execute_input": "2025-03-25T12:46:28.596901Z",
     "iopub.status.busy": "2025-03-25T12:46:28.596271Z",
     "iopub.status.idle": "2025-03-25T12:46:28.600568Z",
     "shell.execute_reply": "2025-03-25T12:46:28.599534Z"
    },
    "papermill": {
     "duration": 0.01125,
     "end_time": "2025-03-25T12:46:28.602170",
     "exception": false,
     "start_time": "2025-03-25T12:46:28.590920",
     "status": "completed"
    },
    "tags": []
   },
   "outputs": [],
   "source": [
    "rain_train = \"/kaggle/input/playground-series-s5e3/train.csv\"\n",
    "rain_test = \"/kaggle/input/playground-series-s5e3/test.csv\""
   ]
  },
  {
   "cell_type": "code",
   "execution_count": 4,
   "id": "3e4b747a",
   "metadata": {
    "execution": {
     "iopub.execute_input": "2025-03-25T12:46:28.612729Z",
     "iopub.status.busy": "2025-03-25T12:46:28.612389Z",
     "iopub.status.idle": "2025-03-25T12:46:28.634910Z",
     "shell.execute_reply": "2025-03-25T12:46:28.633827Z"
    },
    "papermill": {
     "duration": 0.029924,
     "end_time": "2025-03-25T12:46:28.637057",
     "exception": false,
     "start_time": "2025-03-25T12:46:28.607133",
     "status": "completed"
    },
    "tags": []
   },
   "outputs": [],
   "source": [
    "rain_train_df = pd.read_csv(rain_train)"
   ]
  },
  {
   "cell_type": "code",
   "execution_count": 5,
   "id": "f2e01831",
   "metadata": {
    "execution": {
     "iopub.execute_input": "2025-03-25T12:46:28.647345Z",
     "iopub.status.busy": "2025-03-25T12:46:28.646890Z",
     "iopub.status.idle": "2025-03-25T12:46:28.661356Z",
     "shell.execute_reply": "2025-03-25T12:46:28.660235Z"
    },
    "papermill": {
     "duration": 0.021837,
     "end_time": "2025-03-25T12:46:28.663492",
     "exception": false,
     "start_time": "2025-03-25T12:46:28.641655",
     "status": "completed"
    },
    "tags": []
   },
   "outputs": [],
   "source": [
    "rain_test_df = pd.read_csv(rain_test)"
   ]
  },
  {
   "cell_type": "code",
   "execution_count": 6,
   "id": "d63b9463",
   "metadata": {
    "execution": {
     "iopub.execute_input": "2025-03-25T12:46:28.673944Z",
     "iopub.status.busy": "2025-03-25T12:46:28.673596Z",
     "iopub.status.idle": "2025-03-25T12:46:28.685588Z",
     "shell.execute_reply": "2025-03-25T12:46:28.684200Z"
    },
    "papermill": {
     "duration": 0.019247,
     "end_time": "2025-03-25T12:46:28.687366",
     "exception": false,
     "start_time": "2025-03-25T12:46:28.668119",
     "status": "completed"
    },
    "tags": []
   },
   "outputs": [
    {
     "name": "stdout",
     "output_type": "stream",
     "text": [
      "0       87.0\n",
      "1       95.0\n",
      "2       75.0\n",
      "3       95.0\n",
      "4       52.0\n",
      "        ... \n",
      "2185    97.0\n",
      "2186    91.0\n",
      "2187    79.0\n",
      "2188    92.0\n",
      "2189    89.0\n",
      "Name: humidity, Length: 2190, dtype: float64\n"
     ]
    }
   ],
   "source": [
    "print (rain_train_df['humidity'])"
   ]
  },
  {
   "cell_type": "markdown",
   "id": "8fc44e6a",
   "metadata": {
    "papermill": {
     "duration": 0.004145,
     "end_time": "2025-03-25T12:46:28.696008",
     "exception": false,
     "start_time": "2025-03-25T12:46:28.691863",
     "status": "completed"
    },
    "tags": []
   },
   "source": [
    "# Outline"
   ]
  },
  {
   "cell_type": "markdown",
   "id": "4a420ad5",
   "metadata": {
    "papermill": {
     "duration": 0.004083,
     "end_time": "2025-03-25T12:46:28.704410",
     "exception": false,
     "start_time": "2025-03-25T12:46:28.700327",
     "status": "completed"
    },
    "tags": []
   },
   "source": [
    "Objective: Create a deep learning model to predict rainfall via machine learning.\n",
    "\n",
    "How: Model building. \n",
    "\n",
    "Evaluation: Submissions are evaluated on area under the ROC curve between the predicted probability and the observed target. \n",
    "\n",
    "Prediction Target: rainfall column in rain_train. "
   ]
  },
  {
   "cell_type": "code",
   "execution_count": 7,
   "id": "f08cdaa3",
   "metadata": {
    "execution": {
     "iopub.execute_input": "2025-03-25T12:46:28.714417Z",
     "iopub.status.busy": "2025-03-25T12:46:28.713999Z",
     "iopub.status.idle": "2025-03-25T12:46:28.719647Z",
     "shell.execute_reply": "2025-03-25T12:46:28.718402Z"
    },
    "papermill": {
     "duration": 0.012625,
     "end_time": "2025-03-25T12:46:28.721315",
     "exception": false,
     "start_time": "2025-03-25T12:46:28.708690",
     "status": "completed"
    },
    "tags": []
   },
   "outputs": [],
   "source": [
    "def categorize_wind_dir(degree):\n",
    "    \"\"\"\n",
    "    Categorizes wind direction degrees into cardinal directions.\n",
    "    Assumes degree is between 0° and 360°.\n",
    "    \"\"\"\n",
    "    if 45 <= degree < 135:\n",
    "        return 'East'\n",
    "    elif 135 <= degree < 225:\n",
    "        return 'South'\n",
    "    elif 225 <= degree < 315:\n",
    "        return 'West'\n",
    "    else:\n",
    "        return 'North'  # Includes 315–360 and 0–44"
   ]
  },
  {
   "cell_type": "code",
   "execution_count": 8,
   "id": "726379ee",
   "metadata": {
    "execution": {
     "iopub.execute_input": "2025-03-25T12:46:28.731953Z",
     "iopub.status.busy": "2025-03-25T12:46:28.731607Z",
     "iopub.status.idle": "2025-03-25T12:46:28.735933Z",
     "shell.execute_reply": "2025-03-25T12:46:28.735057Z"
    },
    "papermill": {
     "duration": 0.011648,
     "end_time": "2025-03-25T12:46:28.737703",
     "exception": false,
     "start_time": "2025-03-25T12:46:28.726055",
     "status": "completed"
    },
    "tags": []
   },
   "outputs": [],
   "source": [
    "wind_source_map = {'North': 0, 'East': 1, 'South': 2, 'West': 3}"
   ]
  },
  {
   "cell_type": "code",
   "execution_count": 9,
   "id": "131e9aba",
   "metadata": {
    "execution": {
     "iopub.execute_input": "2025-03-25T12:46:28.748644Z",
     "iopub.status.busy": "2025-03-25T12:46:28.748277Z",
     "iopub.status.idle": "2025-03-25T12:46:28.762904Z",
     "shell.execute_reply": "2025-03-25T12:46:28.761864Z"
    },
    "papermill": {
     "duration": 0.022117,
     "end_time": "2025-03-25T12:46:28.764669",
     "exception": false,
     "start_time": "2025-03-25T12:46:28.742552",
     "status": "completed"
    },
    "tags": []
   },
   "outputs": [],
   "source": [
    "for df in [rain_train_df, rain_test_df]:\n",
    "    df['cloud_pressure_temperature'] = df['cloud'] * df['pressure']\n",
    "    df['wind_source'] = df['winddirection'].apply(categorize_wind_dir)\n",
    "    df['wind_source'] = df['wind_source'].map(wind_source_map)"
   ]
  },
  {
   "cell_type": "markdown",
   "id": "409f18c8",
   "metadata": {
    "papermill": {
     "duration": 0.004253,
     "end_time": "2025-03-25T12:46:28.773722",
     "exception": false,
     "start_time": "2025-03-25T12:46:28.769469",
     "status": "completed"
    },
    "tags": []
   },
   "source": [
    "X = rain_train_df[[\"temparature\", \"maxtemp\", \"mintemp\", \"dewpoint\", \"pressure\", \"windspeed\"]]\n",
    "y = rain_train_df[\"rainfall\"]\n",
    "\n",
    "Add a constant term for the intercept\n",
    "X = sm.add_constant(X)\n",
    "\n",
    "Fit linear regression\n",
    "model = sm.OLS(y, X).fit()\n",
    "print(model.summary())\n",
    "\n",
    "Plot residuals\n",
    "residuals = model.resid\n",
    "sns.histplot(residuals, kde=True)\n",
    "plt.title(\"Residual Distribution\")\n",
    "plt.show()\n",
    "\n",
    "p_values = model.pvalues\n",
    "\n",
    "Find significant variables (p-value < 0.05)\n",
    "significant_vars = p_values[p_values < 0.05].index.tolist()\n",
    "\n",
    "Highlight significant variables\n",
    "print(\"\\n🚀 **Significant Variables at α = 0.05:**\")\n",
    "for var in significant_vars:\n",
    "    print(f\"✅ {var} (p-value: {p_values[var]:.4f})\") e"
   ]
  },
  {
   "cell_type": "markdown",
   "id": "bed2be02",
   "metadata": {
    "papermill": {
     "duration": 0.004302,
     "end_time": "2025-03-25T12:46:28.782439",
     "exception": false,
     "start_time": "2025-03-25T12:46:28.778137",
     "status": "completed"
    },
    "tags": []
   },
   "source": [
    "# Modelling"
   ]
  },
  {
   "cell_type": "code",
   "execution_count": 10,
   "id": "638b816b",
   "metadata": {
    "execution": {
     "iopub.execute_input": "2025-03-25T12:46:28.792756Z",
     "iopub.status.busy": "2025-03-25T12:46:28.792405Z",
     "iopub.status.idle": "2025-03-25T12:46:28.796675Z",
     "shell.execute_reply": "2025-03-25T12:46:28.795567Z"
    },
    "papermill": {
     "duration": 0.011473,
     "end_time": "2025-03-25T12:46:28.798410",
     "exception": false,
     "start_time": "2025-03-25T12:46:28.786937",
     "status": "completed"
    },
    "tags": []
   },
   "outputs": [],
   "source": [
    "feature_columns = ['dewpoint', 'humidity', 'sunshine', 'temparature', 'wind_source', 'cloud_pressure_temperature']"
   ]
  },
  {
   "cell_type": "code",
   "execution_count": 11,
   "id": "0f0b7dfc",
   "metadata": {
    "execution": {
     "iopub.execute_input": "2025-03-25T12:46:28.808546Z",
     "iopub.status.busy": "2025-03-25T12:46:28.808201Z",
     "iopub.status.idle": "2025-03-25T12:46:28.816885Z",
     "shell.execute_reply": "2025-03-25T12:46:28.815818Z"
    },
    "papermill": {
     "duration": 0.015728,
     "end_time": "2025-03-25T12:46:28.818585",
     "exception": false,
     "start_time": "2025-03-25T12:46:28.802857",
     "status": "completed"
    },
    "tags": []
   },
   "outputs": [],
   "source": [
    "# Split training data\n",
    "X_train = rain_train_df[feature_columns]\n",
    "y_train = rain_train_df['rainfall']"
   ]
  },
  {
   "cell_type": "code",
   "execution_count": 12,
   "id": "a7213f3a",
   "metadata": {
    "execution": {
     "iopub.execute_input": "2025-03-25T12:46:28.829472Z",
     "iopub.status.busy": "2025-03-25T12:46:28.829105Z",
     "iopub.status.idle": "2025-03-25T12:46:28.836770Z",
     "shell.execute_reply": "2025-03-25T12:46:28.835714Z"
    },
    "papermill": {
     "duration": 0.015204,
     "end_time": "2025-03-25T12:46:28.838643",
     "exception": false,
     "start_time": "2025-03-25T12:46:28.823439",
     "status": "completed"
    },
    "tags": []
   },
   "outputs": [],
   "source": [
    "X_train, X_valid, y_train, y_valid = train_test_split(X_train, y_train, test_size=0.2, random_state=42)"
   ]
  },
  {
   "cell_type": "code",
   "execution_count": 13,
   "id": "3fcbf835",
   "metadata": {
    "execution": {
     "iopub.execute_input": "2025-03-25T12:46:28.848943Z",
     "iopub.status.busy": "2025-03-25T12:46:28.848610Z",
     "iopub.status.idle": "2025-03-25T12:46:38.397223Z",
     "shell.execute_reply": "2025-03-25T12:46:38.396068Z"
    },
    "papermill": {
     "duration": 9.555742,
     "end_time": "2025-03-25T12:46:38.398986",
     "exception": false,
     "start_time": "2025-03-25T12:46:28.843244",
     "status": "completed"
    },
    "tags": []
   },
   "outputs": [
    {
     "data": {
      "text/html": [
       "<style>#sk-container-id-1 {color: black;background-color: white;}#sk-container-id-1 pre{padding: 0;}#sk-container-id-1 div.sk-toggleable {background-color: white;}#sk-container-id-1 label.sk-toggleable__label {cursor: pointer;display: block;width: 100%;margin-bottom: 0;padding: 0.3em;box-sizing: border-box;text-align: center;}#sk-container-id-1 label.sk-toggleable__label-arrow:before {content: \"▸\";float: left;margin-right: 0.25em;color: #696969;}#sk-container-id-1 label.sk-toggleable__label-arrow:hover:before {color: black;}#sk-container-id-1 div.sk-estimator:hover label.sk-toggleable__label-arrow:before {color: black;}#sk-container-id-1 div.sk-toggleable__content {max-height: 0;max-width: 0;overflow: hidden;text-align: left;background-color: #f0f8ff;}#sk-container-id-1 div.sk-toggleable__content pre {margin: 0.2em;color: black;border-radius: 0.25em;background-color: #f0f8ff;}#sk-container-id-1 input.sk-toggleable__control:checked~div.sk-toggleable__content {max-height: 200px;max-width: 100%;overflow: auto;}#sk-container-id-1 input.sk-toggleable__control:checked~label.sk-toggleable__label-arrow:before {content: \"▾\";}#sk-container-id-1 div.sk-estimator input.sk-toggleable__control:checked~label.sk-toggleable__label {background-color: #d4ebff;}#sk-container-id-1 div.sk-label input.sk-toggleable__control:checked~label.sk-toggleable__label {background-color: #d4ebff;}#sk-container-id-1 input.sk-hidden--visually {border: 0;clip: rect(1px 1px 1px 1px);clip: rect(1px, 1px, 1px, 1px);height: 1px;margin: -1px;overflow: hidden;padding: 0;position: absolute;width: 1px;}#sk-container-id-1 div.sk-estimator {font-family: monospace;background-color: #f0f8ff;border: 1px dotted black;border-radius: 0.25em;box-sizing: border-box;margin-bottom: 0.5em;}#sk-container-id-1 div.sk-estimator:hover {background-color: #d4ebff;}#sk-container-id-1 div.sk-parallel-item::after {content: \"\";width: 100%;border-bottom: 1px solid gray;flex-grow: 1;}#sk-container-id-1 div.sk-label:hover label.sk-toggleable__label {background-color: #d4ebff;}#sk-container-id-1 div.sk-serial::before {content: \"\";position: absolute;border-left: 1px solid gray;box-sizing: border-box;top: 0;bottom: 0;left: 50%;z-index: 0;}#sk-container-id-1 div.sk-serial {display: flex;flex-direction: column;align-items: center;background-color: white;padding-right: 0.2em;padding-left: 0.2em;position: relative;}#sk-container-id-1 div.sk-item {position: relative;z-index: 1;}#sk-container-id-1 div.sk-parallel {display: flex;align-items: stretch;justify-content: center;background-color: white;position: relative;}#sk-container-id-1 div.sk-item::before, #sk-container-id-1 div.sk-parallel-item::before {content: \"\";position: absolute;border-left: 1px solid gray;box-sizing: border-box;top: 0;bottom: 0;left: 50%;z-index: -1;}#sk-container-id-1 div.sk-parallel-item {display: flex;flex-direction: column;z-index: 1;position: relative;background-color: white;}#sk-container-id-1 div.sk-parallel-item:first-child::after {align-self: flex-end;width: 50%;}#sk-container-id-1 div.sk-parallel-item:last-child::after {align-self: flex-start;width: 50%;}#sk-container-id-1 div.sk-parallel-item:only-child::after {width: 0;}#sk-container-id-1 div.sk-dashed-wrapped {border: 1px dashed gray;margin: 0 0.4em 0.5em 0.4em;box-sizing: border-box;padding-bottom: 0.4em;background-color: white;}#sk-container-id-1 div.sk-label label {font-family: monospace;font-weight: bold;display: inline-block;line-height: 1.2em;}#sk-container-id-1 div.sk-label-container {text-align: center;}#sk-container-id-1 div.sk-container {/* jupyter's `normalize.less` sets `[hidden] { display: none; }` but bootstrap.min.css set `[hidden] { display: none !important; }` so we also need the `!important` here to be able to override the default hidden behavior on the sphinx rendered scikit-learn.org. See: https://github.com/scikit-learn/scikit-learn/issues/21755 */display: inline-block !important;position: relative;}#sk-container-id-1 div.sk-text-repr-fallback {display: none;}</style><div id=\"sk-container-id-1\" class=\"sk-top-container\"><div class=\"sk-text-repr-fallback\"><pre>StackingRegressor(estimators=[(&#x27;rf&#x27;, RandomForestRegressor(random_state=42)),\n",
       "                              (&#x27;knn&#x27;, KNeighborsRegressor()),\n",
       "                              (&#x27;cat&#x27;,\n",
       "                               &lt;catboost.core.CatBoostRegressor object at 0x7f4f6f204100&gt;)],\n",
       "                  final_estimator=Ridge())</pre><b>In a Jupyter environment, please rerun this cell to show the HTML representation or trust the notebook. <br />On GitHub, the HTML representation is unable to render, please try loading this page with nbviewer.org.</b></div><div class=\"sk-container\" hidden><div class=\"sk-item sk-dashed-wrapped\"><div class=\"sk-label-container\"><div class=\"sk-label sk-toggleable\"><input class=\"sk-toggleable__control sk-hidden--visually\" id=\"sk-estimator-id-1\" type=\"checkbox\" ><label for=\"sk-estimator-id-1\" class=\"sk-toggleable__label sk-toggleable__label-arrow\">StackingRegressor</label><div class=\"sk-toggleable__content\"><pre>StackingRegressor(estimators=[(&#x27;rf&#x27;, RandomForestRegressor(random_state=42)),\n",
       "                              (&#x27;knn&#x27;, KNeighborsRegressor()),\n",
       "                              (&#x27;cat&#x27;,\n",
       "                               &lt;catboost.core.CatBoostRegressor object at 0x7f4f6f204100&gt;)],\n",
       "                  final_estimator=Ridge())</pre></div></div></div><div class=\"sk-serial\"><div class=\"sk-item\"><div class=\"sk-parallel\"><div class=\"sk-parallel-item\"><div class=\"sk-item\"><div class=\"sk-label-container\"><div class=\"sk-label sk-toggleable\"><label>rf</label></div></div><div class=\"sk-serial\"><div class=\"sk-item\"><div class=\"sk-estimator sk-toggleable\"><input class=\"sk-toggleable__control sk-hidden--visually\" id=\"sk-estimator-id-2\" type=\"checkbox\" ><label for=\"sk-estimator-id-2\" class=\"sk-toggleable__label sk-toggleable__label-arrow\">RandomForestRegressor</label><div class=\"sk-toggleable__content\"><pre>RandomForestRegressor(random_state=42)</pre></div></div></div></div></div></div><div class=\"sk-parallel-item\"><div class=\"sk-item\"><div class=\"sk-label-container\"><div class=\"sk-label sk-toggleable\"><label>knn</label></div></div><div class=\"sk-serial\"><div class=\"sk-item\"><div class=\"sk-estimator sk-toggleable\"><input class=\"sk-toggleable__control sk-hidden--visually\" id=\"sk-estimator-id-3\" type=\"checkbox\" ><label for=\"sk-estimator-id-3\" class=\"sk-toggleable__label sk-toggleable__label-arrow\">KNeighborsRegressor</label><div class=\"sk-toggleable__content\"><pre>KNeighborsRegressor()</pre></div></div></div></div></div></div><div class=\"sk-parallel-item\"><div class=\"sk-item\"><div class=\"sk-label-container\"><div class=\"sk-label sk-toggleable\"><label>cat</label></div></div><div class=\"sk-serial\"><div class=\"sk-item\"><div class=\"sk-estimator sk-toggleable\"><input class=\"sk-toggleable__control sk-hidden--visually\" id=\"sk-estimator-id-4\" type=\"checkbox\" ><label for=\"sk-estimator-id-4\" class=\"sk-toggleable__label sk-toggleable__label-arrow\">CatBoostRegressor</label><div class=\"sk-toggleable__content\"><pre>&lt;catboost.core.CatBoostRegressor object at 0x7f4f6f204100&gt;</pre></div></div></div></div></div></div></div></div><div class=\"sk-item\"><div class=\"sk-parallel\"><div class=\"sk-parallel-item\"><div class=\"sk-item\"><div class=\"sk-label-container\"><div class=\"sk-label sk-toggleable\"><label>final_estimator</label></div></div><div class=\"sk-serial\"><div class=\"sk-item\"><div class=\"sk-estimator sk-toggleable\"><input class=\"sk-toggleable__control sk-hidden--visually\" id=\"sk-estimator-id-5\" type=\"checkbox\" ><label for=\"sk-estimator-id-5\" class=\"sk-toggleable__label sk-toggleable__label-arrow\">Ridge</label><div class=\"sk-toggleable__content\"><pre>Ridge()</pre></div></div></div></div></div></div></div></div></div></div></div></div>"
      ],
      "text/plain": [
       "StackingRegressor(estimators=[('rf', RandomForestRegressor(random_state=42)),\n",
       "                              ('knn', KNeighborsRegressor()),\n",
       "                              ('cat',\n",
       "                               <catboost.core.CatBoostRegressor object at 0x7f4f6f204100>)],\n",
       "                  final_estimator=Ridge())"
      ]
     },
     "execution_count": 13,
     "metadata": {},
     "output_type": "execute_result"
    }
   ],
   "source": [
    "from sklearn.ensemble import RandomForestRegressor, StackingRegressor\n",
    "from sklearn.neighbors import KNeighborsRegressor\n",
    "from sklearn.linear_model import Ridge\n",
    "from sklearn.model_selection import train_test_split\n",
    "\n",
    "try:\n",
    "    from catboost import CatBoostRegressor\n",
    "    cat_model = CatBoostRegressor(verbose=0, random_state=42)\n",
    "except ImportError:\n",
    "    print(\"CatBoost not installed, using only RF and KNN\")\n",
    "    cat_model = None\n",
    "\n",
    "rf_model = RandomForestRegressor(n_estimators=100, random_state=42)\n",
    "knn_model = KNeighborsRegressor(n_neighbors=5)\n",
    "\n",
    "base_models = [('rf', rf_model), ('knn', knn_model)]\n",
    "if cat_model:\n",
    "    base_models.append(('cat', cat_model))\n",
    "\n",
    "# Stack models\n",
    "stack_model = StackingRegressor(\n",
    "    estimators=base_models,\n",
    "    final_estimator=Ridge()\n",
    ")\n",
    "\n",
    "# Fit and predict\n",
    "stack_model.fit(X_train, y_train)"
   ]
  },
  {
   "cell_type": "code",
   "execution_count": 14,
   "id": "fe749b17",
   "metadata": {
    "execution": {
     "iopub.execute_input": "2025-03-25T12:46:38.409708Z",
     "iopub.status.busy": "2025-03-25T12:46:38.409351Z",
     "iopub.status.idle": "2025-03-25T12:46:38.432459Z",
     "shell.execute_reply": "2025-03-25T12:46:38.431324Z"
    },
    "papermill": {
     "duration": 0.030605,
     "end_time": "2025-03-25T12:46:38.434444",
     "exception": false,
     "start_time": "2025-03-25T12:46:38.403839",
     "status": "completed"
    },
    "tags": []
   },
   "outputs": [],
   "source": [
    "X_test = rain_test_df[feature_columns]\n",
    "rain_test_df['rainfall'] = stack_model.predict(X_test)"
   ]
  },
  {
   "cell_type": "code",
   "execution_count": 15,
   "id": "5697f415",
   "metadata": {
    "execution": {
     "iopub.execute_input": "2025-03-25T12:46:38.444927Z",
     "iopub.status.busy": "2025-03-25T12:46:38.444587Z",
     "iopub.status.idle": "2025-03-25T12:46:38.457577Z",
     "shell.execute_reply": "2025-03-25T12:46:38.456581Z"
    },
    "papermill": {
     "duration": 0.02022,
     "end_time": "2025-03-25T12:46:38.459389",
     "exception": false,
     "start_time": "2025-03-25T12:46:38.439169",
     "status": "completed"
    },
    "tags": []
   },
   "outputs": [
    {
     "name": "stdout",
     "output_type": "stream",
     "text": [
      "Submission file saved successfully!\n"
     ]
    }
   ],
   "source": [
    "submission = rain_test_df[['id', 'rainfall']]\n",
    "\n",
    "# If ordered and un_ordered are required and available in test:\n",
    "# submission['ordered'] = pastry_test_df['ordered']\n",
    "# submission['un_ordered'] = pastry_test_df['un_ordered']\n",
    "\n",
    "# Save submission file\n",
    "submission.to_csv('submission.csv', index=False)\n",
    "print(\"Submission file saved successfully!\")"
   ]
  }
 ],
 "metadata": {
  "kaggle": {
   "accelerator": "none",
   "dataSources": [
    {
     "databundleVersionId": 11251744,
     "sourceId": 91714,
     "sourceType": "competition"
    }
   ],
   "dockerImageVersionId": 30918,
   "isGpuEnabled": false,
   "isInternetEnabled": true,
   "language": "python",
   "sourceType": "notebook"
  },
  "kernelspec": {
   "display_name": "Python 3",
   "language": "python",
   "name": "python3"
  },
  "language_info": {
   "codemirror_mode": {
    "name": "ipython",
    "version": 3
   },
   "file_extension": ".py",
   "mimetype": "text/x-python",
   "name": "python",
   "nbconvert_exporter": "python",
   "pygments_lexer": "ipython3",
   "version": "3.10.12"
  },
  "papermill": {
   "default_parameters": {},
   "duration": 21.421108,
   "end_time": "2025-03-25T12:46:39.385175",
   "environment_variables": {},
   "exception": null,
   "input_path": "__notebook__.ipynb",
   "output_path": "__notebook__.ipynb",
   "parameters": {},
   "start_time": "2025-03-25T12:46:17.964067",
   "version": "2.6.0"
  }
 },
 "nbformat": 4,
 "nbformat_minor": 5
}
